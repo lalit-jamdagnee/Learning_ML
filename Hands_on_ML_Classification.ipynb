{
  "cells": [
    {
      "cell_type": "markdown",
      "metadata": {
        "id": "view-in-github",
        "colab_type": "text"
      },
      "source": [
        "<a href=\"https://colab.research.google.com/github/lalit-jamdagnee/Learning_ML/blob/main/Hands_on_ML_Classification.ipynb\" target=\"_parent\"><img src=\"https://colab.research.google.com/assets/colab-badge.svg\" alt=\"Open In Colab\"/></a>"
      ]
    },
    {
      "cell_type": "markdown",
      "metadata": {
        "id": "TR0hKdUjrDmk"
      },
      "source": [
        "# MNIST"
      ]
    },
    {
      "cell_type": "markdown",
      "metadata": {
        "id": "y5HOHYDrrMxM"
      },
      "source": [
        "In this chapter we will be using the MNIST dataset, which is a set of 70,000 small images of digits handwritten by high school students and employees of the US Census Bureau. Each image is labeled with the digit it represents. This set has been studied so much that it often called the \"hello world\" of Machine learning: whenever people come up with a new classification algorithm they are curious to see how it will peprform on MNIST, and anyone who learns Machine laerning tackles this dataset sooner or later.\n",
        "\n",
        "The follwoing code fetches the MNIST dataset in Scikit-learn:"
      ]
    },
    {
      "cell_type": "code",
      "execution_count": null,
      "metadata": {
        "colab": {
          "base_uri": "https://localhost:8080/"
        },
        "id": "usYgTujrr89T",
        "outputId": "7432c401-e9e6-472c-aa96-d95c6e74c0ca"
      },
      "outputs": [
        {
          "name": "stderr",
          "output_type": "stream",
          "text": [
            "/usr/local/lib/python3.10/dist-packages/sklearn/datasets/_openml.py:1022: FutureWarning: The default value of `parser` will change from `'liac-arff'` to `'auto'` in 1.4. You can set `parser='auto'` to silence this warning. Therefore, an `ImportError` will be raised from 1.4 if the dataset is dense and pandas is not installed. Note that the pandas parser may return different data types. See the Notes Section in fetch_openml's API doc for details.\n",
            "  warn(\n"
          ]
        },
        {
          "data": {
            "text/plain": [
              "dict_keys(['data', 'target', 'frame', 'categories', 'feature_names', 'target_names', 'DESCR', 'details', 'url'])"
            ]
          },
          "execution_count": 1,
          "metadata": {},
          "output_type": "execute_result"
        }
      ],
      "source": [
        "from sklearn.datasets import fetch_openml\n",
        "mnist = fetch_openml('mnist_784', version = 1)\n",
        "mnist.keys()"
      ]
    },
    {
      "cell_type": "code",
      "execution_count": null,
      "metadata": {
        "colab": {
          "base_uri": "https://localhost:8080/"
        },
        "id": "y9jCuLmMsQg6",
        "outputId": "f5d22423-0507-40a5-f0b6-32fff937388e"
      },
      "outputs": [
        {
          "name": "stdout",
          "output_type": "stream",
          "text": [
            "**Author**: Yann LeCun, Corinna Cortes, Christopher J.C. Burges  \n",
            "**Source**: [MNIST Website](http://yann.lecun.com/exdb/mnist/) - Date unknown  \n",
            "**Please cite**:  \n",
            "\n",
            "The MNIST database of handwritten digits with 784 features, raw data available at: http://yann.lecun.com/exdb/mnist/. It can be split in a training set of the first 60,000 examples, and a test set of 10,000 examples  \n",
            "\n",
            "It is a subset of a larger set available from NIST. The digits have been size-normalized and centered in a fixed-size image. It is a good database for people who want to try learning techniques and pattern recognition methods on real-world data while spending minimal efforts on preprocessing and formatting. The original black and white (bilevel) images from NIST were size normalized to fit in a 20x20 pixel box while preserving their aspect ratio. The resulting images contain grey levels as a result of the anti-aliasing technique used by the normalization algorithm. the images were centered in a 28x28 image by computing the center of mass of the pixels, and translating the image so as to position this point at the center of the 28x28 field.  \n",
            "\n",
            "With some classification methods (particularly template-based methods, such as SVM and K-nearest neighbors), the error rate improves when the digits are centered by bounding box rather than center of mass. If you do this kind of pre-processing, you should report it in your publications. The MNIST database was constructed from NIST's NIST originally designated SD-3 as their training set and SD-1 as their test set. However, SD-3 is much cleaner and easier to recognize than SD-1. The reason for this can be found on the fact that SD-3 was collected among Census Bureau employees, while SD-1 was collected among high-school students. Drawing sensible conclusions from learning experiments requires that the result be independent of the choice of training set and test among the complete set of samples. Therefore it was necessary to build a new database by mixing NIST's datasets.  \n",
            "\n",
            "The MNIST training set is composed of 30,000 patterns from SD-3 and 30,000 patterns from SD-1. Our test set was composed of 5,000 patterns from SD-3 and 5,000 patterns from SD-1. The 60,000 pattern training set contained examples from approximately 250 writers. We made sure that the sets of writers of the training set and test set were disjoint. SD-1 contains 58,527 digit images written by 500 different writers. In contrast to SD-3, where blocks of data from each writer appeared in sequence, the data in SD-1 is scrambled. Writer identities for SD-1 is available and we used this information to unscramble the writers. We then split SD-1 in two: characters written by the first 250 writers went into our new training set. The remaining 250 writers were placed in our test set. Thus we had two sets with nearly 30,000 examples each. The new training set was completed with enough examples from SD-3, starting at pattern # 0, to make a full set of 60,000 training patterns. Similarly, the new test set was completed with SD-3 examples starting at pattern # 35,000 to make a full set with 60,000 test patterns. Only a subset of 10,000 test images (5,000 from SD-1 and 5,000 from SD-3) is available on this site. The full 60,000 sample training set is available.\n",
            "\n",
            "Downloaded from openml.org.\n"
          ]
        }
      ],
      "source": [
        "print(mnist.DESCR)"
      ]
    },
    {
      "cell_type": "code",
      "execution_count": null,
      "metadata": {
        "colab": {
          "base_uri": "https://localhost:8080/"
        },
        "id": "ErnVoO11spLw",
        "outputId": "d4798766-4dca-4631-81eb-475c687d9507"
      },
      "outputs": [
        {
          "name": "stdout",
          "output_type": "stream",
          "text": [
            "X.shape:  (70000, 784)\n",
            "y.shape:  (70000,)\n"
          ]
        }
      ],
      "source": [
        "X, y = mnist['data'], mnist['target']\n",
        "print(\"X.shape: \", X.shape)\n",
        "print(\"y.shape: \", y.shape)"
      ]
    },
    {
      "cell_type": "markdown",
      "metadata": {
        "id": "aSZG1dS8tAAd"
      },
      "source": [
        "There are 70,000 images, and each image has 784 features. This is because each image is 28 x 28 pixels, and each feature simply represents one pixel's intensity, from 0 to 255. Let's take a peek at one digit from the dataset."
      ]
    },
    {
      "cell_type": "code",
      "execution_count": null,
      "metadata": {
        "colab": {
          "base_uri": "https://localhost:8080/",
          "height": 458
        },
        "id": "4LnHQpeuva3w",
        "outputId": "ae515f70-67d9-43ed-87c6-b58c33a1a764"
      },
      "outputs": [
        {
          "data": {
            "text/html": [
              "<div>\n",
              "<style scoped>\n",
              "    .dataframe tbody tr th:only-of-type {\n",
              "        vertical-align: middle;\n",
              "    }\n",
              "\n",
              "    .dataframe tbody tr th {\n",
              "        vertical-align: top;\n",
              "    }\n",
              "\n",
              "    .dataframe thead th {\n",
              "        text-align: right;\n",
              "    }\n",
              "</style>\n",
              "<table border=\"1\" class=\"dataframe\">\n",
              "  <thead>\n",
              "    <tr style=\"text-align: right;\">\n",
              "      <th></th>\n",
              "      <th>0</th>\n",
              "    </tr>\n",
              "  </thead>\n",
              "  <tbody>\n",
              "    <tr>\n",
              "      <th>pixel1</th>\n",
              "      <td>0.0</td>\n",
              "    </tr>\n",
              "    <tr>\n",
              "      <th>pixel2</th>\n",
              "      <td>0.0</td>\n",
              "    </tr>\n",
              "    <tr>\n",
              "      <th>pixel3</th>\n",
              "      <td>0.0</td>\n",
              "    </tr>\n",
              "    <tr>\n",
              "      <th>pixel4</th>\n",
              "      <td>0.0</td>\n",
              "    </tr>\n",
              "    <tr>\n",
              "      <th>pixel5</th>\n",
              "      <td>0.0</td>\n",
              "    </tr>\n",
              "    <tr>\n",
              "      <th>...</th>\n",
              "      <td>...</td>\n",
              "    </tr>\n",
              "    <tr>\n",
              "      <th>pixel780</th>\n",
              "      <td>0.0</td>\n",
              "    </tr>\n",
              "    <tr>\n",
              "      <th>pixel781</th>\n",
              "      <td>0.0</td>\n",
              "    </tr>\n",
              "    <tr>\n",
              "      <th>pixel782</th>\n",
              "      <td>0.0</td>\n",
              "    </tr>\n",
              "    <tr>\n",
              "      <th>pixel783</th>\n",
              "      <td>0.0</td>\n",
              "    </tr>\n",
              "    <tr>\n",
              "      <th>pixel784</th>\n",
              "      <td>0.0</td>\n",
              "    </tr>\n",
              "  </tbody>\n",
              "</table>\n",
              "<p>784 rows × 1 columns</p>\n",
              "</div><br><label><b>dtype:</b> float64</label>"
            ],
            "text/plain": [
              "pixel1      0.0\n",
              "pixel2      0.0\n",
              "pixel3      0.0\n",
              "pixel4      0.0\n",
              "pixel5      0.0\n",
              "           ... \n",
              "pixel780    0.0\n",
              "pixel781    0.0\n",
              "pixel782    0.0\n",
              "pixel783    0.0\n",
              "pixel784    0.0\n",
              "Name: 0, Length: 784, dtype: float64"
            ]
          },
          "execution_count": 4,
          "metadata": {},
          "output_type": "execute_result"
        }
      ],
      "source": [
        "X.iloc[0]"
      ]
    },
    {
      "cell_type": "code",
      "execution_count": null,
      "metadata": {
        "colab": {
          "base_uri": "https://localhost:8080/",
          "height": 430
        },
        "id": "K1s5TKXBtjWP",
        "outputId": "ae7dabe9-4513-40cd-cd12-ed6dafeb34ab"
      },
      "outputs": [
        {
          "data": {
            "image/png": "[encoded data removed]",
            "text/plain": [
              "<Figure size 640x480 with 1 Axes>"
            ]
          },
          "metadata": {},
          "output_type": "display_data"
        }
      ],
      "source": [
        "\n",
        "import matplotlib.pyplot as plt\n",
        "import matplotlib as mpl\n",
        "\n",
        "some_digit = mnist['data'].iloc[0]\n",
        "some_digit_reshape = some_digit.values.reshape(28, 28)\n",
        "\n",
        "plt.imshow(some_digit_reshape , cmap = 'binary')\n",
        "plt.show()"
      ]
    },
    {
      "cell_type": "code",
      "execution_count": null,
      "metadata": {
        "colab": {
          "base_uri": "https://localhost:8080/",
          "height": 36
        },
        "id": "-6gcOg8JueK_",
        "outputId": "3c3d6e8a-516d-47ff-d0e6-33eb10a33d61"
      },
      "outputs": [
        {
          "data": {
            "application/vnd.google.colaboratory.intrinsic+json": {
              "type": "string"
            },
            "text/plain": [
              "'5'"
            ]
          },
          "execution_count": 6,
          "metadata": {},
          "output_type": "execute_result"
        }
      ],
      "source": [
        "# This looks like a 5, and indeed that's what the label tells us:\n",
        "y.iloc[0]"
      ]
    },
    {
      "cell_type": "code",
      "execution_count": null,
      "metadata": {
        "id": "zi9Jjp6xwh_z"
      },
      "outputs": [],
      "source": [
        "# Note that the label is a string. Most ML algorithms except numbers, so\n",
        "# let's cast y to integer:\n",
        "import numpy as np\n",
        "\n",
        "y = y.astype(dtype = 'int32')"
      ]
    },
    {
      "cell_type": "markdown",
      "metadata": {
        "id": "U4sZtArowvh_"
      },
      "source": [
        "But wait! You should always create a test set and set it aside before inspecting the data closely. The MNIST dataset is actually alerady split into a training set (the first 60,000 images) and a test set ( the last 10,000 images):"
      ]
    },
    {
      "cell_type": "code",
      "execution_count": null,
      "metadata": {
        "id": "LBVjbr14y6se"
      },
      "outputs": [],
      "source": [
        "X_train, X_test, y_train, y_test = X[:60000], X[60000:], y[:60000], y[60000:]"
      ]
    },
    {
      "cell_type": "markdown",
      "metadata": {
        "id": "xqdvm-O6zF3h"
      },
      "source": [
        "This training set is already shuffled for us, which is good because this gurantees that all cross-validation folds will be similar."
      ]
    },
    {
      "cell_type": "markdown",
      "metadata": {
        "id": "QbzhmyilzWFl"
      },
      "source": [
        "# Training a Binary Classifier"
      ]
    },
    {
      "cell_type": "markdown",
      "metadata": {
        "id": "WUKCgsLczbqf"
      },
      "source": [
        "Let's simplify the problem for now and only try to identify one digit- for example, the number 5. This \"5-detector\" will be an example of a binary classifier, capable of distinguishing between just two classes, 5 and not-5. Let's create the target vectors for this classification task:"
      ]
    },
    {
      "cell_type": "code",
      "execution_count": null,
      "metadata": {
        "id": "U7DSW-B3zwFm"
      },
      "outputs": [],
      "source": [
        "y_train_5 = (y_train == 5)\n",
        "y_test_5 = (y_test == 5)"
      ]
    },
    {
      "cell_type": "markdown",
      "metadata": {
        "id": "7ebU0z7Rz5mO"
      },
      "source": [
        "Now let's pick a classifier and train it. A good place to start is with a Stochastic Gradient Descent (SGD) classifier, using Scikit-learn's SGDClassifier class. This Classifier has the advantage of being capable of handling very large datasets efficiently. This is in part because SGD deals with training instances independently, one at a time. Let's create an SGDClassifier and train it on the whole training set:"
      ]
    },
    {
      "cell_type": "code",
      "execution_count": null,
      "metadata": {
        "colab": {
          "base_uri": "https://localhost:8080/",
          "height": 74
        },
        "id": "Tuv7i3iZ0Zsd",
        "outputId": "26dae685-9f15-4ca9-826b-09cd76f89667"
      },
      "outputs": [
        {
          "data": {
            "text/html": [
              "<style>#sk-container-id-1 {color: black;}#sk-container-id-1 pre{padding: 0;}#sk-container-id-1 div.sk-toggleable {background-color: white;}#sk-container-id-1 label.sk-toggleable__label {cursor: pointer;display: block;width: 100%;margin-bottom: 0;padding: 0.3em;box-sizing: border-box;text-align: center;}#sk-container-id-1 label.sk-toggleable__label-arrow:before {content: \"▸\";float: left;margin-right: 0.25em;color: #696969;}#sk-container-id-1 label.sk-toggleable__label-arrow:hover:before {color: black;}#sk-container-id-1 div.sk-estimator:hover label.sk-toggleable__label-arrow:before {color: black;}#sk-container-id-1 div.sk-toggleable__content {max-height: 0;max-width: 0;overflow: hidden;text-align: left;background-color: #f0f8ff;}#sk-container-id-1 div.sk-toggleable__content pre {margin: 0.2em;color: black;border-radius: 0.25em;background-color: #f0f8ff;}#sk-container-id-1 input.sk-toggleable__control:checked~div.sk-toggleable__content {max-height: 200px;max-width: 100%;overflow: auto;}#sk-container-id-1 input.sk-toggleable__control:checked~label.sk-toggleable__label-arrow:before {content: \"▾\";}#sk-container-id-1 div.sk-estimator input.sk-toggleable__control:checked~label.sk-toggleable__label {background-color: #d4ebff;}#sk-container-id-1 div.sk-label input.sk-toggleable__control:checked~label.sk-toggleable__label {background-color: #d4ebff;}#sk-container-id-1 input.sk-hidden--visually {border: 0;clip: rect(1px 1px 1px 1px);clip: rect(1px, 1px, 1px, 1px);height: 1px;margin: -1px;overflow: hidden;padding: 0;position: absolute;width: 1px;}#sk-container-id-1 div.sk-estimator {font-family: monospace;background-color: #f0f8ff;border: 1px dotted black;border-radius: 0.25em;box-sizing: border-box;margin-bottom: 0.5em;}#sk-container-id-1 div.sk-estimator:hover {background-color: #d4ebff;}#sk-container-id-1 div.sk-parallel-item::after {content: \"\";width: 100%;border-bottom: 1px solid gray;flex-grow: 1;}#sk-container-id-1 div.sk-label:hover label.sk-toggleable__label {background-color: #d4ebff;}#sk-container-id-1 div.sk-serial::before {content: \"\";position: absolute;border-left: 1px solid gray;box-sizing: border-box;top: 0;bottom: 0;left: 50%;z-index: 0;}#sk-container-id-1 div.sk-serial {display: flex;flex-direction: column;align-items: center;background-color: white;padding-right: 0.2em;padding-left: 0.2em;position: relative;}#sk-container-id-1 div.sk-item {position: relative;z-index: 1;}#sk-container-id-1 div.sk-parallel {display: flex;align-items: stretch;justify-content: center;background-color: white;position: relative;}#sk-container-id-1 div.sk-item::before, #sk-container-id-1 div.sk-parallel-item::before {content: \"\";position: absolute;border-left: 1px solid gray;box-sizing: border-box;top: 0;bottom: 0;left: 50%;z-index: -1;}#sk-container-id-1 div.sk-parallel-item {display: flex;flex-direction: column;z-index: 1;position: relative;background-color: white;}#sk-container-id-1 div.sk-parallel-item:first-child::after {align-self: flex-end;width: 50%;}#sk-container-id-1 div.sk-parallel-item:last-child::after {align-self: flex-start;width: 50%;}#sk-container-id-1 div.sk-parallel-item:only-child::after {width: 0;}#sk-container-id-1 div.sk-dashed-wrapped {border: 1px dashed gray;margin: 0 0.4em 0.5em 0.4em;box-sizing: border-box;padding-bottom: 0.4em;background-color: white;}#sk-container-id-1 div.sk-label label {font-family: monospace;font-weight: bold;display: inline-block;line-height: 1.2em;}#sk-container-id-1 div.sk-label-container {text-align: center;}#sk-container-id-1 div.sk-container {/* jupyter's `normalize.less` sets `[hidden] { display: none; }` but bootstrap.min.css set `[hidden] { display: none !important; }` so we also need the `!important` here to be able to override the default hidden behavior on the sphinx rendered scikit-learn.org. See: https://github.com/scikit-learn/scikit-learn/issues/21755 */display: inline-block !important;position: relative;}#sk-container-id-1 div.sk-text-repr-fallback {display: none;}</style><div id=\"sk-container-id-1\" class=\"sk-top-container\"><div class=\"sk-text-repr-fallback\"><pre>SGDClassifier(random_state=42)</pre><b>In a Jupyter environment, please rerun this cell to show the HTML representation or trust the notebook. <br />On GitHub, the HTML representation is unable to render, please try loading this page with nbviewer.org.</b></div><div class=\"sk-container\" hidden><div class=\"sk-item\"><div class=\"sk-estimator sk-toggleable\"><input class=\"sk-toggleable__control sk-hidden--visually\" id=\"sk-estimator-id-1\" type=\"checkbox\" checked><label for=\"sk-estimator-id-1\" class=\"sk-toggleable__label sk-toggleable__label-arrow\">SGDClassifier</label><div class=\"sk-toggleable__content\"><pre>SGDClassifier(random_state=42)</pre></div></div></div></div></div>"
            ],
            "text/plain": [
              "SGDClassifier(random_state=42)"
            ]
          },
          "execution_count": 10,
          "metadata": {},
          "output_type": "execute_result"
        }
      ],
      "source": [
        "from sklearn.linear_model import SGDClassifier\n",
        "\n",
        "sgd_clf = SGDClassifier(random_state = 42)\n",
        "sgd_clf.fit(X_train, y_train_5)"
      ]
    },
    {
      "cell_type": "code",
      "execution_count": null,
      "metadata": {
        "colab": {
          "base_uri": "https://localhost:8080/"
        },
        "id": "PYIhUrzw0j3c",
        "outputId": "43ba5557-e739-499c-e87e-134cb7f91497"
      },
      "outputs": [
        {
          "name": "stderr",
          "output_type": "stream",
          "text": [
            "/usr/local/lib/python3.10/dist-packages/sklearn/base.py:465: UserWarning: X does not have valid feature names, but SGDClassifier was fitted with feature names\n",
            "  warnings.warn(\n"
          ]
        },
        {
          "data": {
            "text/plain": [
              "array([ True])"
            ]
          },
          "execution_count": 11,
          "metadata": {},
          "output_type": "execute_result"
        }
      ],
      "source": [
        "sgd_clf.predict([some_digit])"
      ]
    },
    {
      "cell_type": "markdown",
      "metadata": {
        "id": "osri--yG0y5Z"
      },
      "source": [
        "The classifier guesses taht this image represents a 5 (True). Look's like it guess right in this particular case! Now, let's evaluate this model's performance."
      ]
    },
    {
      "cell_type": "markdown",
      "metadata": {
        "id": "jKCJhmkg1DrS"
      },
      "source": [
        "# Performance Measures"
      ]
    },
    {
      "cell_type": "markdown",
      "metadata": {
        "id": "PNle_T3n1HO6"
      },
      "source": [
        "There are many performance measures avaialable , so grab a cup of coffee and get ready to learn many new concepts and acronyms!"
      ]
    },
    {
      "cell_type": "markdown",
      "metadata": {
        "id": "Oq3qBLgu1dUv"
      },
      "source": [
        "## Measuring Accuracy Using Cross-validation"
      ]
    },
    {
      "cell_type": "code",
      "execution_count": null,
      "metadata": {
        "colab": {
          "base_uri": "https://localhost:8080/"
        },
        "id": "7BSOX1Xd1mhu",
        "outputId": "37885403-37e3-4c29-b0d3-25adc71ef9fd"
      },
      "outputs": [
        {
          "name": "stdout",
          "output_type": "stream",
          "text": [
            "0.95035\n",
            "0.96035\n",
            "0.9604\n"
          ]
        }
      ],
      "source": [
        "# @title Implementing Cross-Validation\n",
        "\n",
        "\"\"\"Ocassionally you will need more control over the cross-validation process\n",
        "than what Scikit-leran provides off the shelf. In these cases, you can implement\n",
        "cross-validation yourself. The following code does roughly the same things as\n",
        "Scikit-learn's cross_val_score() function, and it prints the same result:\"\"\"\n",
        "\n",
        "from sklearn.model_selection import StratifiedKFold\n",
        "from sklearn.base import clone\n",
        "\n",
        "skfolds = StratifiedKFold(n_splits = 3)\n",
        "\n",
        "for train_index, test_index in skfolds.split(X_train, y_train_5):\n",
        "  clone_clf = clone(sgd_clf)\n",
        "  X_train_folds = X_train.iloc[train_index]\n",
        "  y_train_folds = y_train_5.iloc[train_index]\n",
        "  X_test_fold = X_train.iloc[test_index]\n",
        "  y_test_fold = y_train_5.iloc[test_index]\n",
        "\n",
        "  clone_clf.fit(X_train_folds, y_train_folds)\n",
        "  y_pred = clone_clf.predict(X_test_fold)\n",
        "  n_correct = sum(y_pred == y_test_fold)\n",
        "  print(n_correct / len(y_pred))"
      ]
    },
    {
      "cell_type": "markdown",
      "metadata": {
        "id": "l1KI-9-t3itD"
      },
      "source": [
        "The **StratifiedKFold** class performs stratified sampling to produce folds that contain a representative ratio of each class. At each iteration the code creates a clone of the classifier, trains that clone on the training folds, and makes predictions on the test fold. Then it counts the number of correct predictions and outputs the ratio of the correct predictions."
      ]
    },
    {
      "cell_type": "markdown",
      "metadata": {
        "id": "ek8CGjkT4vVt"
      },
      "source": [
        "Let's use the **cross_val_score()** function to evaluate our SGDClassifier model, using K-fold cross-validation with three folds. remember that K-fold cross-validation means splitting the training set into Kfolds, then making predictions and evaluating them on each fold using a model trained on the remaining folds:\n"
      ]
    },
    {
      "cell_type": "code",
      "execution_count": null,
      "metadata": {
        "colab": {
          "base_uri": "https://localhost:8080/"
        },
        "id": "3bWD3QZp5b_l",
        "outputId": "d6a2e1c5-3e7d-4501-e8d6-6315c08c05d7"
      },
      "outputs": [
        {
          "data": {
            "text/plain": [
              "array([0.95035, 0.96035, 0.9604 ])"
            ]
          },
          "execution_count": 13,
          "metadata": {},
          "output_type": "execute_result"
        }
      ],
      "source": [
        "from sklearn.model_selection import cross_val_score\n",
        "\n",
        "cross_val_score(sgd_clf, X_train, y_train_5, cv = 3, scoring ='accuracy')\n"
      ]
    },
    {
      "cell_type": "markdown",
      "metadata": {
        "id": "rQsFRw435npj"
      },
      "source": [
        "Let's look at a very dumb classifier that just classifies every single image in the \"not-5\" class"
      ]
    },
    {
      "cell_type": "code",
      "execution_count": null,
      "metadata": {
        "id": "fB5PO0x05xE1"
      },
      "outputs": [],
      "source": [
        "from sklearn.base import BaseEstimator\n",
        "\n",
        "class Never5Classifier(BaseEstimator):\n",
        "  def fit(self, X, y = None):\n",
        "    return self\n",
        "  def predict(self, X):\n",
        "    return np.zeros((len(X), 1), dtype = bool)"
      ]
    },
    {
      "cell_type": "code",
      "execution_count": null,
      "metadata": {
        "colab": {
          "base_uri": "https://localhost:8080/"
        },
        "id": "LSbq8URn6Hhi",
        "outputId": "29c9728f-b3c6-4852-dc18-43c3e5c07a5d"
      },
      "outputs": [
        {
          "data": {
            "text/plain": [
              "array([0.91125, 0.90855, 0.90915])"
            ]
          },
          "execution_count": 15,
          "metadata": {},
          "output_type": "execute_result"
        }
      ],
      "source": [
        "never_5_clf = Never5Classifier()\n",
        "cross_val_score(never_5_clf, X_train, y_train_5, cv = 3, scoring='accuracy')"
      ]
    },
    {
      "cell_type": "markdown",
      "metadata": {
        "id": "_CeiWvJr6uM7"
      },
      "source": [
        "That's right , it has over 90% accuracy! This is simply because only about 10% of the images are 5s, so if you always guess that an image is not a 5, you will be right about 90% of the time.\n",
        "\n",
        "This demonstrates why accuracy is gnerally not the preffered performance measures for classifiers, especially when you are dealing with skewed datasets (i.e., when some classes are much more frequent than other classes.)"
      ]
    },
    {
      "cell_type": "markdown",
      "metadata": {
        "id": "10WYMD927d82"
      },
      "source": [
        "## Confusion matrix"
      ]
    },
    {
      "cell_type": "markdown",
      "metadata": {
        "id": "ylUtmuT27kCU"
      },
      "source": [
        "A much better way to evaluate the performance of a classifier is to look at the confusion matrix.\n",
        "\n",
        "To compute the confusion matrix, you first need to have a set of predictions so that they can be compared to the actual targets. You could make predictions on the test-set, but let's keep it untouched for now (remember that you want to use the test set at the very end of your project, once you have classifer that you are ready to launch).Instead, you can use the **cross_val_predict()** function::\n"
      ]
    },
    {
      "cell_type": "code",
      "execution_count": null,
      "metadata": {
        "id": "EYhH7gAh9BO_"
      },
      "outputs": [],
      "source": [
        "from sklearn.model_selection import cross_val_predict\n",
        "\n",
        "y_train_pred = cross_val_predict(sgd_clf, X_train, y_train_5, cv = 3)"
      ]
    },
    {
      "cell_type": "markdown",
      "metadata": {
        "id": "Uhgom2LZ9Mbz"
      },
      "source": [
        "Just Like the **cross_val_score()** function, **cross_val_predict()** performs K-fold cross-validation, but intead of returning the evaluation scores, it returns the predictions made on each test fold.\n",
        "\n",
        "Now ou are ready to get the confusion matrix using the **confusion_matrix()** function. Just pass it the target classes (y_train_5) and the predicted class (y_train_pred)"
      ]
    },
    {
      "cell_type": "code",
      "execution_count": null,
      "metadata": {
        "colab": {
          "base_uri": "https://localhost:8080/"
        },
        "id": "3GBowd5b9uNG",
        "outputId": "7b50914f-4846-48b3-efe8-5b566a836a25"
      },
      "outputs": [
        {
          "data": {
            "text/plain": [
              "array([[53892,   687],\n",
              "       [ 1891,  3530]])"
            ]
          },
          "execution_count": 17,
          "metadata": {},
          "output_type": "execute_result"
        }
      ],
      "source": [
        "from sklearn.metrics import confusion_matrix\n",
        "\n",
        "confusion_matrix(y_train_5, y_train_pred)"
      ]
    },
    {
      "cell_type": "markdown",
      "metadata": {
        "id": "hS7-3lVp92uI"
      },
      "source": [
        "The confusion matrix gives you a lot of information, but sometimes you may prefer a more concise metric. An intersting one to look at is the accuracy of the positive predictions, this is called precision of the classifier.\n",
        "\n",
        "Precision is typically used along with another metric named recall, also called sensitivy of the true positive rate (TPR), this is the ratio of positive instances that are correctly detected by the classifier."
      ]
    },
    {
      "cell_type": "markdown",
      "metadata": {
        "id": "uiyERha3_PXQ"
      },
      "source": [
        "![image.png](data:image/png;base64,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)"
      ]
    },
    {
      "cell_type": "markdown",
      "metadata": {
        "id": "-p1qJoNe_Vz6"
      },
      "source": [
        "## Precision and Recall"
      ]
    },
    {
      "cell_type": "markdown",
      "metadata": {
        "id": "9oUMm6hyMRZF"
      },
      "source": [
        "Scikit-learn provides several functions to compute classifier metrics,including precision and recall:"
      ]
    },
    {
      "cell_type": "code",
      "execution_count": null,
      "metadata": {
        "colab": {
          "base_uri": "https://localhost:8080/"
        },
        "id": "WVR163dnMbEI",
        "outputId": "a67b89ea-a95a-45a6-8d92-1d19327cbfac"
      },
      "outputs": [
        {
          "data": {
            "text/plain": [
              "0.8370879772350012"
            ]
          },
          "execution_count": 18,
          "metadata": {},
          "output_type": "execute_result"
        }
      ],
      "source": [
        "from sklearn.metrics import precision_score, recall_score\n",
        "precision_score(y_train_5, y_train_pred)"
      ]
    },
    {
      "cell_type": "code",
      "execution_count": null,
      "metadata": {
        "colab": {
          "base_uri": "https://localhost:8080/"
        },
        "id": "GGR0sosdMlZp",
        "outputId": "e08e26a1-ce9e-447c-c661-c9b000df7089"
      },
      "outputs": [
        {
          "data": {
            "text/plain": [
              "0.6511713705958311"
            ]
          },
          "execution_count": 19,
          "metadata": {},
          "output_type": "execute_result"
        }
      ],
      "source": [
        "recall_score(y_train_5, y_train_pred)"
      ]
    },
    {
      "cell_type": "markdown",
      "metadata": {
        "id": "ORWvTLuiM3KO"
      },
      "source": [
        "Now our 5-detector does not look as shiny as it did when we looked at its accuracy. When it claims an image represents a 5, it is correct only 83.7% of the time. More over, it only detects 65.11% of the 5s."
      ]
    },
    {
      "cell_type": "markdown",
      "metadata": {
        "id": "6s1KpCTJNGXk"
      },
      "source": [
        "It is often convenient to combine precision and recall into a single metric called the F1 score, in particular if you need a simple way to compare two classifiers. The F1 score is the **harmonic mean** of precision and recall. Whereas the regular mean treats all values equally, the harmonic mean gives much more weight to low values. As a result, the classifier will only get a high F1 score if both recall and precision are high.\n",
        "\n",
        "To cmpute the F1 score, simply call the f1_score() function:"
      ]
    },
    {
      "cell_type": "code",
      "execution_count": null,
      "metadata": {
        "colab": {
          "base_uri": "https://localhost:8080/"
        },
        "id": "LKcdUFuRNrHF",
        "outputId": "360f23d5-2885-49e1-9311-03a86a35c6b3"
      },
      "outputs": [
        {
          "data": {
            "text/plain": [
              "0.7325171197343846"
            ]
          },
          "execution_count": 20,
          "metadata": {},
          "output_type": "execute_result"
        }
      ],
      "source": [
        "from sklearn.metrics import f1_score\n",
        "f1_score(y_train_5, y_train_pred)"
      ]
    },
    {
      "cell_type": "markdown",
      "metadata": {
        "id": "spiG8aM_OC5o"
      },
      "source": [
        "The F1 score favors calssifiers that have similar precision and recall. this isnot alwasy what you want: in some contexts you mostly care about precision, and in other context you really care about recall. For example, if you trained a classifier to detect videos that are safe for kids, you would probably prefer a classifier that rejects many good videos (low recall) but keeps only safe ones (high precision), rather than a classifier that has a much higher recall but lets a few really bad videos shwo up in your product (in such cases, you may even want to add a human pipeline to check the classifier's video selection). On the other hand, suppose you train a classifier to detect shoplifters in surviellance images: it is  probably fine if your classifier has only 30% precision as long as it has 99% recall."
      ]
    },
    {
      "cell_type": "markdown",
      "metadata": {
        "id": "RbJsFtZtQBTN"
      },
      "source": [
        "Unfortunately, you can't have it both ways: increasing precision reduces recall, and vice versa. This is called the **precision/recall trade off**."
      ]
    },
    {
      "cell_type": "markdown",
      "metadata": {
        "id": "zBPtghkJQL7l"
      },
      "source": [
        "## Precision/Recall trade off"
      ]
    },
    {
      "cell_type": "markdown",
      "metadata": {
        "id": "61IBcI3SQQFm"
      },
      "source": [
        "To understand this trade-off, let's look at how the SGDCLassifier makes its calssification decision. For each instane, it computes  a score based on a decision function. if that score is greater than a threshold, it assigns the sinstance to the positive class otherwise it assigns it to the negative class."
      ]
    },
    {
      "cell_type": "markdown",
      "metadata": {
        "id": "An-JyIRs1YPS"
      },
      "source": [
        "Scikit-learn does not let you set the threshold directly, but it does give you access to the decision scores that it uses to make predictions. Instead of calling the classifier's predict() method, you can call its decision_function() method, which returns score for each instance, and then use any threshold you want to make predictions based on those score:"
      ]
    },
    {
      "cell_type": "code",
      "execution_count": null,
      "metadata": {
        "colab": {
          "base_uri": "https://localhost:8080/"
        },
        "id": "XQoxrWeI1scW",
        "outputId": "1ee8beb3-8e63-47c2-9d3f-3869eb94d557"
      },
      "outputs": [
        {
          "name": "stderr",
          "output_type": "stream",
          "text": [
            "/usr/local/lib/python3.10/dist-packages/sklearn/base.py:465: UserWarning: X does not have valid feature names, but SGDClassifier was fitted with feature names\n",
            "  warnings.warn(\n"
          ]
        },
        {
          "data": {
            "text/plain": [
              "array([2164.22030239])"
            ]
          },
          "execution_count": 21,
          "metadata": {},
          "output_type": "execute_result"
        }
      ],
      "source": [
        "y_scores = sgd_clf.decision_function([some_digit])\n",
        "y_scores"
      ]
    },
    {
      "cell_type": "code",
      "execution_count": null,
      "metadata": {
        "id": "zGO9-nJf1z9C"
      },
      "outputs": [],
      "source": [
        "threshold = 0\n",
        "y_some_digit_pred = (y_scores > threshold)"
      ]
    },
    {
      "cell_type": "code",
      "execution_count": null,
      "metadata": {
        "colab": {
          "base_uri": "https://localhost:8080/"
        },
        "id": "cDUzNqbJ2KKi",
        "outputId": "ef3d2d6a-3dcf-4b48-c5c1-e5c79b3f3a40"
      },
      "outputs": [
        {
          "data": {
            "text/plain": [
              "array([ True])"
            ]
          },
          "execution_count": 23,
          "metadata": {},
          "output_type": "execute_result"
        }
      ],
      "source": [
        "y_some_digit_pred"
      ]
    },
    {
      "cell_type": "markdown",
      "metadata": {
        "id": "Puwt_qSL2MNa"
      },
      "source": [
        "The SGDClassifier uses a threshold equal to 0, so the previous code returns the same result as the predict() method. Let's raise the threshold:\n"
      ]
    },
    {
      "cell_type": "code",
      "execution_count": null,
      "metadata": {
        "colab": {
          "base_uri": "https://localhost:8080/"
        },
        "id": "GKnFtq6E2Xbt",
        "outputId": "7a912f32-78eb-49e7-adde-67a96f3b44bd"
      },
      "outputs": [
        {
          "data": {
            "text/plain": [
              "array([False])"
            ]
          },
          "execution_count": 24,
          "metadata": {},
          "output_type": "execute_result"
        }
      ],
      "source": [
        "threshold = 8000\n",
        "y_some_digit_pred = (y_scores > threshold)\n",
        "y_some_digit_pred"
      ]
    },
    {
      "cell_type": "markdown",
      "metadata": {
        "id": "gIApWPqY2eVf"
      },
      "source": [
        "This confirms that raising the threshold decreases recall. The image actually represents a 5, and the classifier detects it when the threshold is 0, but it misses it when the threshold is increased to 8000.\n",
        "\n",
        "How do you decide which threshold to use? First, use the cross-val_predict() function to get the scores of all instances in the training set, but this time specify that you want to return decision scores instead of predictions:"
      ]
    },
    {
      "cell_type": "code",
      "execution_count": null,
      "metadata": {
        "colab": {
          "background_save": true
        },
        "id": "QTmq6vSN24oc"
      },
      "outputs": [],
      "source": [
        "y_scores = cross_val_predict(sgd_clf, X_train, y_train_5, cv=3, method='decision_function')"
      ]
    },
    {
      "cell_type": "markdown",
      "metadata": {
        "id": "d_O1zSRM3Uvc"
      },
      "source": [
        "With these scores, use the precision_recall_curve() function to compute precision and recall for all possible thresholds."
      ]
    },
    {
      "cell_type": "code",
      "execution_count": null,
      "metadata": {
        "colab": {
          "background_save": true
        },
        "id": "SdsWV86T3g_a"
      },
      "outputs": [],
      "source": [
        "from sklearn.metrics import precision_recall_curve\n",
        "precision, recalls, thresholds = precision_recall_curve(y_train_5, y_scores)"
      ]
    },
    {
      "cell_type": "code",
      "execution_count": null,
      "metadata": {
        "colab": {
          "background_save": true
        },
        "id": "N_9TscdO3uF6",
        "outputId": "cfc1bf4b-fb54-45c4-d759-84534f7fff57"
      },
      "outputs": [
        {
          "data": {
            "image/png": "[encoded data removed]",
            "text/plain": [
              "<Figure size 640x480 with 1 Axes>"
            ]
          },
          "metadata": {},
          "output_type": "display_data"
        }
      ],
      "source": [
        "# Using Matplotlib to plot precision and recall a functions of the threshold\n",
        "# value\n",
        "\n",
        "def plot_precision_recall_vs_threshold(precision, recalls, thresholds):\n",
        "  plt.plot(thresholds, precision[:-1], \"b--\", label=\"precision\")\n",
        "  plt.plot(thresholds, recalls[:-1], \"g-\", label=\"recall\")\n",
        "  plt.legend()\n",
        "  plt.xlabel(\"threshold\")\n",
        "  plt.ylim([0,1])\n",
        "  plt.xlim([-50000, 50000])\n",
        "  plt.grid(True)\n",
        "\n",
        "plt.figsize=(6,10)\n",
        "plot_precision_recall_vs_threshold(precision, recalls, thresholds)\n",
        "plt.show()"
      ]
    },
    {
      "cell_type": "code",
      "execution_count": null,
      "metadata": {
        "colab": {
          "background_save": true
        },
        "id": "X6lgUidI4a8e",
        "outputId": "332dedf0-3267-40bb-891a-75fa8b6ec36e"
      },
      "outputs": [
        {
          "data": {
            "image/png": "[encoded data removed]",
            "text/plain": [
              "<Figure size 640x480 with 1 Axes>"
            ]
          },
          "metadata": {},
          "output_type": "display_data"
        }
      ],
      "source": [
        "plt.plot(recalls, precision)\n",
        "plt.xlabel('recalls')\n",
        "plt.ylabel('precsion')\n",
        "plt.grid(True)\n",
        "plt.show()"
      ]
    },
    {
      "cell_type": "markdown",
      "metadata": {
        "id": "R1ct0yTp6w26"
      },
      "source": [
        "You can see that precision really starts to fall sharply around 80% recall. you will probably wan tto select a precision/recall trade- off just before that drop - for example, at around 60% recall. But of course, the choice depends on your project.\n",
        "\n",
        "Suppose you decide to aim for 90% precision. You look up the first plot and find that you need to use a threshold of about 8,000. To be more precise you can search for the lowest threshold that gives you at least 90% precision (np.argmax() will give you the first index of the maximum value, which in this case means the first True value):/\n"
      ]
    },
    {
      "cell_type": "code",
      "execution_count": null,
      "metadata": {
        "colab": {
          "background_save": true
        },
        "id": "epo_0A1X7vTQ"
      },
      "outputs": [],
      "source": [
        "threshold_90_precision = thresholds[np.argmax(precision >= 0.90)]"
      ]
    },
    {
      "cell_type": "markdown",
      "metadata": {
        "id": "S6eea1wd71dd"
      },
      "source": [
        "To make predictions (on the training set for now), instaed of calling the classifier's predict() method, you can run this code:"
      ]
    },
    {
      "cell_type": "code",
      "execution_count": null,
      "metadata": {
        "colab": {
          "background_save": true
        },
        "id": "qo2yq4KX79ov"
      },
      "outputs": [],
      "source": [
        "y_train_pred_90 = (y_scores >= threshold_90_precision)"
      ]
    },
    {
      "cell_type": "code",
      "execution_count": null,
      "metadata": {
        "colab": {
          "background_save": true
        },
        "id": "RcCDZ5pW8Kqx",
        "outputId": "aa47d43a-9929-4a90-8de3-0b7fea144549"
      },
      "outputs": [
        {
          "data": {
            "text/plain": [
              "0.9000345901072293"
            ]
          },
          "execution_count": 31,
          "metadata": {},
          "output_type": "execute_result"
        }
      ],
      "source": [
        "# Let's check these predictions' precision and recall:\n",
        "\n",
        "precision_score(y_train_5, y_train_pred_90)"
      ]
    },
    {
      "cell_type": "code",
      "execution_count": null,
      "metadata": {
        "colab": {
          "background_save": true
        },
        "id": "jXHLHzGN8ZAO",
        "outputId": "d3eb606a-8ce2-4748-cd67-700498e0b497"
      },
      "outputs": [
        {
          "data": {
            "text/plain": [
              "0.4799852425751706"
            ]
          },
          "execution_count": 32,
          "metadata": {},
          "output_type": "execute_result"
        }
      ],
      "source": [
        "recall_score(y_train_5, y_train_pred_90)"
      ]
    },
    {
      "cell_type": "markdown",
      "metadata": {
        "id": "2-0u-ksW8kmC"
      },
      "source": [
        "Great we have a 90% precision classifier! As you can see, it is fairly easy to create a classifier with virtually any precision you want: just set a high enough  threshold, and you're done. But wait, not so fast. A high-precison classifer is not very useful if its recall is too low!"
      ]
    },
    {
      "cell_type": "markdown",
      "metadata": {
        "id": "B41wLOkB82dB"
      },
      "source": [
        "## The ROC Curve"
      ]
    },
    {
      "cell_type": "markdown",
      "metadata": {
        "id": "7EsqDpL29GWC"
      },
      "source": [
        "The **Reciever Operating Characterstic** (ROC) curve is another common tool used with binary classifiers. It is very similar to the precision/recall curve, but instead of plotting precision versus recall, the ROC curve plots the true positive rate (antoerh name for recall) against the fals positive rate(FPR). The FPR is the ratio of negative instances that are incorrectly classified as positive. It is equal to 1 - the true negative rate(TNR), which is the ration of negative instances that are correctly classified as negative. The TNR is also called specificity. Hence, the ROC curve plots sensitivity (recall) versus 1 - specificity.\n",
        "\n",
        "To plot the ROC Curve, you first use the roc_curve() function to compute the TPR and FPR for various threshold values:"
      ]
    },
    {
      "cell_type": "code",
      "execution_count": null,
      "metadata": {
        "colab": {
          "background_save": true
        },
        "id": "1kGOGYgW94BT"
      },
      "outputs": [],
      "source": [
        "from sklearn.metrics import roc_curve\n",
        "fpr, tpr, thresholds = roc_curve(y_train_5, y_scores)"
      ]
    },
    {
      "cell_type": "markdown",
      "metadata": {
        "id": "W4NMrmnr-RU-"
      },
      "source": [
        "Then you can plot the FPR against the TPR using Matplotlib. This code produces the plt"
      ]
    },
    {
      "cell_type": "code",
      "execution_count": null,
      "metadata": {
        "colab": {
          "background_save": true
        },
        "id": "ccX-qVVU-Zo7",
        "outputId": "28f7ff9d-81ab-4ce1-fee4-47fc60c7076f"
      },
      "outputs": [
        {
          "data": {
            "image/png": "[encoded data removed]",
            "text/plain": [
              "<Figure size 640x480 with 1 Axes>"
            ]
          },
          "metadata": {},
          "output_type": "display_data"
        }
      ],
      "source": [
        "def plot_roc_curve(fpr, tpr, label=None):\n",
        "  plt.plot(fpr, tpr, linewidth=2, label=label)\n",
        "  plt.plot([0,1],[0,1], 'k--')\n",
        "  plt.axis([0,1,0,1])\n",
        "  plt.xlabel('False Positive Rate')\n",
        "  plt.ylabel('True Positive Rate')\n",
        "plot_roc_curve(fpr, tpr)\n",
        "plt.show()"
      ]
    },
    {
      "cell_type": "markdown",
      "metadata": {
        "id": "p6aYYcq6_G10"
      },
      "source": [
        "Once again there is trade-off: the higher the rcall (TPR), the more false positives (FPR) the classifier produces. The Dotted line represents the ROC curve of a purely random classifer; a good classifier stays as far away fromthat line as possible ( toward the top-left corner).\n",
        "\n",
        "One way to compare classifier is to measure the area under the curve (AUC). A perfect classifier will have a ROC AUC equal 1, wheres a purely random classifier iwll have a ROC AUC equal to 0.5. Scikit-leran provides a function to compute ROC AUC:\n"
      ]
    },
    {
      "cell_type": "code",
      "execution_count": null,
      "metadata": {
        "colab": {
          "background_save": true
        },
        "id": "tLo4u9aI_0SG",
        "outputId": "17d0f8b9-b297-419d-a09a-ccce9f95f9b5"
      },
      "outputs": [
        {
          "data": {
            "text/plain": [
              "0.9604938554008616"
            ]
          },
          "execution_count": 35,
          "metadata": {},
          "output_type": "execute_result"
        }
      ],
      "source": [
        "from sklearn.metrics import roc_auc_score\n",
        "roc_auc_score(y_train_5, y_scores)"
      ]
    },
    {
      "cell_type": "markdown",
      "metadata": {
        "id": "GqMxIVHF_7Kk"
      },
      "source": [
        "PR curve should be used in the case where we have a fewer positive class or when we care more about false positives than the false negatives."
      ]
    },
    {
      "cell_type": "markdown",
      "metadata": {
        "id": "JHT2FrAAAYuq"
      },
      "source": [
        "Let's now train a RandomForestClassifier and compare its ROC curve and ROC AUC score to those of the SGDClassifier. FIrst, you need to get scores for each instance in the training set. But due to the way ti works , The RandomForestClassifier class does not have a decision_function() method. Instead, it has a predict_proba() method. Scikit-learn classifiers generally have one or the other, or both. The predict_proba() method returns an array containing a row per instance and a column per class, each containing the probability that the given instance belongs to the given class:"
      ]
    },
    {
      "cell_type": "code",
      "execution_count": null,
      "metadata": {
        "colab": {
          "background_save": true
        },
        "id": "NAIlU-EsA8se"
      },
      "outputs": [],
      "source": [
        "from sklearn.ensemble import RandomForestClassifier\n",
        "\n",
        "forest_clf = RandomForestClassifier(random_state = 42)\n",
        "y_probas_forest = cross_val_predict(forest_clf, X_train, y_train_5, cv=3,\n",
        "                                    method = 'predict_proba')"
      ]
    },
    {
      "cell_type": "markdown",
      "metadata": {
        "id": "ZXCqRqB8BR0E"
      },
      "source": [
        "The roc_curve(0 function expects labels and scores, but instead of scores you can give it class probabilities. Lets use the positive class's probability as the score."
      ]
    },
    {
      "cell_type": "code",
      "execution_count": null,
      "metadata": {
        "colab": {
          "background_save": true
        },
        "id": "1V32AIDlBfxs"
      },
      "outputs": [],
      "source": [
        "y_scores_forest = y_probas_forest[:, 1]\n",
        "fpr_forest, tpr_forest, thresholds_forest = roc_curve(y_train_5, y_scores_forest)"
      ]
    },
    {
      "cell_type": "code",
      "execution_count": null,
      "metadata": {
        "colab": {
          "background_save": true
        },
        "id": "1_HvqFQPBxW-",
        "outputId": "0d4de4e2-d30f-4aec-9b77-83b739039e3e"
      },
      "outputs": [
        {
          "data": {
            "image/png": "[encoded data removed]",
            "text/plain": [
              "<Figure size 640x480 with 1 Axes>"
            ]
          },
          "metadata": {},
          "output_type": "display_data"
        }
      ],
      "source": [
        "plt.plot(fpr, tpr, \"b:\", label=\"SGD\")\n",
        "plot_roc_curve(fpr_forest, tpr_forest, \"random_forest\")\n",
        "plt.legend(loc = 'lower right')\n",
        "plt.show()"
      ]
    },
    {
      "cell_type": "markdown",
      "metadata": {
        "id": "jjxdpovxCFDP"
      },
      "source": [
        "As you can see in the plot above, the RandomForestClassifier's ROC curve looks much better than the SGDClassifier's: it comes much closer to the top-left corner. As a result, its ROC AUC score is also significantly better;/\n"
      ]
    },
    {
      "cell_type": "code",
      "execution_count": null,
      "metadata": {
        "colab": {
          "background_save": true
        },
        "id": "baJRDKh8CaQc",
        "outputId": "dece91d6-ac2a-48be-a26e-b75392d9a0f8"
      },
      "outputs": [
        {
          "data": {
            "text/plain": [
              "0.9983436731328145"
            ]
          },
          "execution_count": 39,
          "metadata": {},
          "output_type": "execute_result"
        }
      ],
      "source": [
        "roc_auc_score(y_train_5, y_scores_forest)"
      ]
    },
    {
      "cell_type": "markdown",
      "metadata": {
        "id": "qXSsuQApCe3n"
      },
      "source": [
        "You now know how to train binary classifiers, choose the appropriate metric for your task, evaluate your classifiers using cross-validation, select the precision/recall trade off that fits your needs, and use ROC curves and ROCAUC scores to compare various models, Now let's try to detect mroe than just 5s."
      ]
    }
  ],
  "metadata": {
    "colab": {
      "provenance": [],
      "authorship_tag": "ABX9TyOiOeWP0ZbX9KU24SLZbJ6b",
      "include_colab_link": true
    },
    "kernelspec": {
      "display_name": "Python 3",
      "name": "python3"
    },
    "language_info": {
      "name": "python"
    }
  },
  "nbformat": 4,
  "nbformat_minor": 0
}